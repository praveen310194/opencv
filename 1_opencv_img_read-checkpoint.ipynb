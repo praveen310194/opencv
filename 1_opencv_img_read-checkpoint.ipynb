{
 "cells": [
  {
   "cell_type": "markdown",
   "metadata": {},
   "source": [
    "# install packages\n",
    "#pip install opencv-python  --> main modules\n",
    "#pip install opencv-contrib-python -->main and conrib modules"
   ]
  },
  {
   "cell_type": "code",
   "execution_count": 1,
   "metadata": {},
   "outputs": [],
   "source": [
    "import cv2"
   ]
  },
  {
   "cell_type": "code",
   "execution_count": 2,
   "metadata": {},
   "outputs": [],
   "source": [
    "#read image\n",
    "img = cv2.imread('robo3.jpg')"
   ]
  },
  {
   "cell_type": "code",
   "execution_count": 4,
   "metadata": {},
   "outputs": [],
   "source": [
    "#display image\n",
    "cv2.imshow('image frame',img)\n",
    "cv2.waitKey(1000)\n",
    "cv2.destroyAllWindows()"
   ]
  },
  {
   "cell_type": "code",
   "execution_count": 5,
   "metadata": {},
   "outputs": [
    {
     "data": {
      "text/plain": [
       "numpy.ndarray"
      ]
     },
     "execution_count": 5,
     "metadata": {},
     "output_type": "execute_result"
    }
   ],
   "source": [
    "type(img)"
   ]
  },
  {
   "cell_type": "code",
   "execution_count": 6,
   "metadata": {},
   "outputs": [
    {
     "data": {
      "text/plain": [
       "(540, 799, 3)"
      ]
     },
     "execution_count": 6,
     "metadata": {},
     "output_type": "execute_result"
    }
   ],
   "source": [
    "img.shape"
   ]
  },
  {
   "cell_type": "code",
   "execution_count": 7,
   "metadata": {},
   "outputs": [
    {
     "data": {
      "text/plain": [
       "array([[[27, 25, 24],\n",
       "        [28, 26, 25],\n",
       "        [27, 25, 24],\n",
       "        ...,\n",
       "        [38, 32, 27],\n",
       "        [38, 32, 27],\n",
       "        [38, 32, 27]],\n",
       "\n",
       "       [[28, 26, 25],\n",
       "        [27, 25, 24],\n",
       "        [28, 26, 25],\n",
       "        ...,\n",
       "        [40, 34, 29],\n",
       "        [38, 32, 27],\n",
       "        [38, 32, 27]],\n",
       "\n",
       "       [[28, 26, 25],\n",
       "        [28, 26, 25],\n",
       "        [28, 26, 25],\n",
       "        ...,\n",
       "        [41, 35, 30],\n",
       "        [39, 33, 28],\n",
       "        [38, 32, 27]],\n",
       "\n",
       "       ...,\n",
       "\n",
       "       [[27, 27, 27],\n",
       "        [22, 22, 22],\n",
       "        [21, 21, 21],\n",
       "        ...,\n",
       "        [11, 12, 10],\n",
       "        [11, 12, 10],\n",
       "        [11, 12, 10]],\n",
       "\n",
       "       [[22, 22, 22],\n",
       "        [19, 19, 19],\n",
       "        [17, 17, 17],\n",
       "        ...,\n",
       "        [12, 13, 11],\n",
       "        [11, 12, 10],\n",
       "        [11, 12, 10]],\n",
       "\n",
       "       [[19, 19, 19],\n",
       "        [17, 17, 17],\n",
       "        [17, 17, 17],\n",
       "        ...,\n",
       "        [12, 13, 11],\n",
       "        [11, 12, 10],\n",
       "        [11, 12, 10]]], dtype=uint8)"
      ]
     },
     "execution_count": 7,
     "metadata": {},
     "output_type": "execute_result"
    }
   ],
   "source": [
    "img"
   ]
  },
  {
   "cell_type": "code",
   "execution_count": 9,
   "metadata": {},
   "outputs": [
    {
     "data": {
      "text/plain": [
       "True"
      ]
     },
     "execution_count": 9,
     "metadata": {},
     "output_type": "execute_result"
    }
   ],
   "source": [
    "cv2.imwrite('saved_img.jpg',img)"
   ]
  },
  {
   "cell_type": "code",
   "execution_count": null,
   "metadata": {},
   "outputs": [],
   "source": []
  }
 ],
 "metadata": {
  "kernelspec": {
   "display_name": "Python 3",
   "language": "python",
   "name": "python3"
  },
  "language_info": {
   "codemirror_mode": {
    "name": "ipython",
    "version": 3
   },
   "file_extension": ".py",
   "mimetype": "text/x-python",
   "name": "python",
   "nbconvert_exporter": "python",
   "pygments_lexer": "ipython3",
   "version": "3.7.3"
  }
 },
 "nbformat": 4,
 "nbformat_minor": 2
}
