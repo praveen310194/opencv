{
 "cells": [
  {
   "cell_type": "code",
   "execution_count": 1,
   "metadata": {},
   "outputs": [],
   "source": [
    "import cv2\n",
    "import numpy as np"
   ]
  },
  {
   "cell_type": "code",
   "execution_count": 2,
   "metadata": {},
   "outputs": [],
   "source": [
    "low_green=np.array([25,52,72])\n",
    "high_green=np.array([102,255,255])\n",
    "low_orange=np.array([5,50,50])\n",
    "high_orange=np.array([15,255,55])"
   ]
  },
  {
   "cell_type": "code",
   "execution_count": 24,
   "metadata": {},
   "outputs": [],
   "source": [
    "cap = cv2.VideoCapture(0)\n",
    "while True:\n",
    "    ret,frame = cap.read()\n",
    "    \n",
    "    #hsv image\n",
    "    hsv = cv2.cvtColor(frame,cv2.COLOR_BGR2HSV)   \n",
    "    \n",
    "    #mask image\n",
    "    mask = cv2.inRange(hsv,low_green,high_green)\n",
    "    \n",
    "    #find conours\n",
    "    contours,hierarchy = cv2.findContours(mask,cv2.RETR_EXTERNAL,cv2.CHAIN_APPROX_SIMPLE)\n",
    "    #cv2.drawContours(frame,contours,-1,(0,0,225),2)\n",
    "    #cv2.imshow(\"frame\",frame)\n",
    "    \n",
    "    for c in contours:\n",
    "        area = cv2.contourArea(c)    \n",
    "        if area>300:\n",
    "            x,y,w,h = cv2.boundingRect(c)            \n",
    "            rf = cv2.rectangle(frame,(x,y),(x+w, y+h),(255,0,0),2)\n",
    "            cv2.drawContours(frame,c,-1,(0,0,225),2)\n",
    "        \n",
    "        cv2.imshow(\"frame\",frame)\n",
    "    \n",
    "    if cv2.waitKey(1) == ord('q'):\n",
    "        break\n",
    "cap.release()\n",
    "cv2.destroyAllWindows()"
   ]
  },
  {
   "cell_type": "code",
   "execution_count": 22,
   "metadata": {},
   "outputs": [],
   "source": [
    "cap.release()\n",
    "cv2.destroyAllWindows()"
   ]
  },
  {
   "cell_type": "code",
   "execution_count": null,
   "metadata": {},
   "outputs": [],
   "source": []
  }
 ],
 "metadata": {
  "kernelspec": {
   "display_name": "Python 3",
   "language": "python",
   "name": "python3"
  },
  "language_info": {
   "codemirror_mode": {
    "name": "ipython",
    "version": 3
   },
   "file_extension": ".py",
   "mimetype": "text/x-python",
   "name": "python",
   "nbconvert_exporter": "python",
   "pygments_lexer": "ipython3",
   "version": "3.7.3"
  }
 },
 "nbformat": 4,
 "nbformat_minor": 2
}
